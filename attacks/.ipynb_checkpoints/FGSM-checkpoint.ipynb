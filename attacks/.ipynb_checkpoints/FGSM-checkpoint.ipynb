{
 "cells": [
  {
   "cell_type": "markdown",
   "metadata": {
    "colab_type": "text",
    "id": "view-in-github"
   },
   "source": [
    "<a href=\"https://colab.research.google.com/github/Shamoyeeta/Adversarial-ML/blob/main/attacks/FGSM.ipynb\" target=\"_parent\"><img src=\"https://colab.research.google.com/assets/colab-badge.svg\" alt=\"Open In Colab\"/></a>"
   ]
  },
  {
   "cell_type": "code",
   "execution_count": null,
   "metadata": {
    "id": "W3VedZDfQqdF"
   },
   "outputs": [],
   "source": [
    "import os\n",
    "\n",
    "import numpy as np\n",
    "\n",
    "import matplotlib\n",
    "matplotlib.use('Agg')           # noqa: E402\n",
    "import matplotlib.pyplot as plt\n",
    "import matplotlib.gridspec as gridspec\n",
    "\n",
    "import tensorflow.compat.v1 as tf\n",
    "tf.compat.v1.disable_eager_execution()\n",
    "\n",
    "import time"
   ]
  },
  {
   "cell_type": "code",
   "execution_count": null,
   "metadata": {
    "id": "j3wPGTWqQ4_P"
   },
   "outputs": [],
   "source": [
    "def fgm(model, x, eps=0.01, epochs=1, sign=True, clip_min=0., clip_max=1.):\n",
    "    \"\"\"\n",
    "    Fast gradient method.\n",
    "    See https://arxiv.org/abs/1412.6572 and https://arxiv.org/abs/1607.02533\n",
    "    for details.  This implements the revised version since the original FGM\n",
    "    has label leaking problem (https://arxiv.org/abs/1611.01236).\n",
    "    :param model: A wrapper that returns the output as well as logits.\n",
    "    :param x: The input placeholder.\n",
    "    :param eps: The scale factor for noise.\n",
    "    :param epochs: The maximum epoch to run.\n",
    "    :param sign: Use gradient sign if True, otherwise use gradient value.\n",
    "    :param clip_min: The minimum value in output.\n",
    "    :param clip_max: The maximum value in output.\n",
    "    :return: A tensor, contains adversarial samples for each input.\n",
    "    \"\"\"\n",
    "    xadv = tf.identity(x)\n",
    "\n",
    "    ybar = model(xadv)\n",
    "    yshape = ybar.get_shape().as_list()\n",
    "    ydim = yshape[1]\n",
    "\n",
    "    indices = tf.argmax(ybar, axis=1)\n",
    "    target = tf.cond(\n",
    "        tf.equal(ydim, 1),\n",
    "        lambda: tf.nn.relu(tf.sign(ybar - 0.5)),\n",
    "        lambda: tf.one_hot(indices, ydim, on_value=1.0, off_value=0.0))\n",
    "\n",
    "    if 1 == ydim:\n",
    "        loss_fn = tf.nn.sigmoid_cross_entropy_with_logits\n",
    "    else:\n",
    "        loss_fn = tf.nn.softmax_cross_entropy_with_logits\n",
    "\n",
    "    if sign:\n",
    "        noise_fn = tf.sign\n",
    "    else:\n",
    "        noise_fn = tf.identity\n",
    "\n",
    "    eps = tf.abs(eps)\n",
    "\n",
    "    def _cond(xadv, i):\n",
    "        return tf.less(i, epochs)\n",
    "\n",
    "    def _body(xadv, i):\n",
    "        ybar, logits = model(xadv, logits=True)\n",
    "        loss = loss_fn(labels=target, logits=logits)\n",
    "        dy_dx, = tf.gradients(loss, xadv)\n",
    "        xadv = tf.stop_gradient(xadv + eps*noise_fn(dy_dx))\n",
    "        xadv = tf.clip_by_value(xadv, clip_min, clip_max)\n",
    "        return xadv, i+1\n",
    "\n",
    "    xadv, _ = tf.while_loop(_cond, _body, (xadv, 0), back_prop=False,\n",
    "                            name='fast_gradient')\n",
    "    return xadv\n",
    "\n",
    "\n",
    "def fgmt(model, x, y=None, eps=0.01, epochs=1, sign=True, clip_min=0.,\n",
    "         clip_max=1.):\n",
    "    \"\"\"\n",
    "    Fast gradient method with target\n",
    "    See https://arxiv.org/pdf/1607.02533.pdf.  This method is different from\n",
    "    FGM that instead of decreasing the probability for the correct label, it\n",
    "    increases the probability for the desired label.\n",
    "    :param model: A model that returns the output as well as logits.\n",
    "    :param x: The input placeholder.\n",
    "    :param y: The desired target label, set to the least-likely class if None.\n",
    "    :param eps: The noise scale factor.\n",
    "    :param epochs: Maximum epoch to run.\n",
    "    :param sign: Use gradient sign if True, otherwise gradient values.\n",
    "    :param clip_min: Minimum value in output.\n",
    "    :param clip_max: Maximum value in output.\n",
    "    \"\"\"\n",
    "    xadv = tf.identity(x)\n",
    "\n",
    "    ybar = model(xadv)\n",
    "    ydim = ybar.get_shape().as_list()[1]\n",
    "    n = tf.shape(ybar)[0]\n",
    "\n",
    "    if y is None:\n",
    "        indices = tf.argmin(ybar, axis=1)\n",
    "    else:\n",
    "        indices = tf.cond(tf.equal(0, tf.rank(y)),\n",
    "                          lambda: tf.zeros([n], dtype=tf.int32) + y,\n",
    "                          lambda: tf.zeros([n], dtype=tf.int32))\n",
    "\n",
    "    target = tf.cond(\n",
    "        tf.equal(ydim, 1),\n",
    "        lambda: 1 - ybar,\n",
    "        lambda: tf.one_hot(indices, ydim, on_value=1.0, off_value=0.0))\n",
    "\n",
    "    if 1 == ydim:\n",
    "        loss_fn = tf.nn.sigmoid_cross_entropy_with_logits\n",
    "    else:\n",
    "        loss_fn = tf.nn.softmax_cross_entropy_with_logits\n",
    "\n",
    "    if sign:\n",
    "        noise_fn = tf.sign\n",
    "    else:\n",
    "        noise_fn = tf.identity\n",
    "\n",
    "    eps = -tf.abs(eps)\n",
    "\n",
    "    def _cond(xadv, i):\n",
    "        return tf.less(i, epochs)\n",
    "\n",
    "    def _body(xadv, i):\n",
    "        ybar, logits = model(xadv, logits=True)\n",
    "        loss = loss_fn(labels=target, logits=logits)\n",
    "        dy_dx, = tf.gradients(loss, xadv)\n",
    "        xadv = tf.stop_gradient(xadv + eps*noise_fn(dy_dx))\n",
    "        xadv = tf.clip_by_value(xadv, clip_min, clip_max)\n",
    "        return xadv, i+1\n",
    "\n",
    "    xadv, _ = tf.while_loop(_cond, _body, (xadv, 0), back_prop=False,\n",
    "                            name='fast_gradient_target')\n",
    "    return xadv"
   ]
  },
  {
   "cell_type": "code",
   "execution_count": null,
   "metadata": {
    "id": "SyQdj5PORA7t"
   },
   "outputs": [],
   "source": [
    "img_size = 28\n",
    "img_chan = 1\n",
    "n_classes = 10\n",
    "maxTime = 0"
   ]
  },
  {
   "cell_type": "code",
   "execution_count": null,
   "metadata": {
    "colab": {
     "base_uri": "https://localhost:8080/"
    },
    "id": "670HAfFSaelE",
    "outputId": "47ccdd98-42d8-4432-820a-ebc13e5ce4c3"
   },
   "outputs": [
    {
     "name": "stdout",
     "output_type": "stream",
     "text": [
      "\n",
      "Loading MNIST\n"
     ]
    }
   ],
   "source": [
    "print('\\nLoading MNIST')\n",
    "\n",
    "mnist = tf.keras.datasets.mnist\n",
    "(X_train, y_train), (X_test, y_test) = mnist.load_data()\n",
    "X_train = np.reshape(X_train, [-1, img_size, img_size, img_chan])\n",
    "X_train = X_train.astype(np.float32) / 255\n",
    "X_test = np.reshape(X_test, [-1, img_size, img_size, img_chan])\n",
    "X_test = X_test.astype(np.float32) / 255\n",
    "\n",
    "to_categorical = tf.keras.utils.to_categorical\n",
    "y_train = to_categorical(y_train)\n",
    "y_test = to_categorical(y_test)\n"
   ]
  },
  {
   "cell_type": "code",
   "execution_count": null,
   "metadata": {
    "colab": {
     "base_uri": "https://localhost:8080/"
    },
    "id": "-pIlqQqsapLo",
    "outputId": "79157215-10be-4763-83c2-c9d98739de65"
   },
   "outputs": [
    {
     "name": "stdout",
     "output_type": "stream",
     "text": [
      "\n",
      "Spliting data\n",
      "\n",
      "Construction graph\n"
     ]
    }
   ],
   "source": [
    "print('\\nSpliting data')\n",
    "\n",
    "ind = np.random.permutation(X_train.shape[0])\n",
    "X_train, y_train = X_train[ind], y_train[ind]\n",
    "\n",
    "VALIDATION_SPLIT = 0.1\n",
    "n = int(X_train.shape[0] * (1-VALIDATION_SPLIT))\n",
    "X_valid = X_train[n:]\n",
    "X_train = X_train[:n]\n",
    "y_valid = y_train[n:]\n",
    "y_train = y_train[:n]\n",
    "\n",
    "print('\\nConstruction graph')"
   ]
  },
  {
   "cell_type": "code",
   "execution_count": null,
   "metadata": {
    "id": "AFg3CKk-arUX"
   },
   "outputs": [],
   "source": [
    "def model(x, logits=False, training=False):\n",
    "    with tf.variable_scope('conv0'):\n",
    "        z = tf.layers.conv2d(x, filters=32, kernel_size=[3, 3],\n",
    "                             padding='same', activation=tf.nn.relu)\n",
    "        z = tf.layers.max_pooling2d(z, pool_size=[2, 2], strides=2)\n",
    "\n",
    "    with tf.variable_scope('conv1'):\n",
    "        z = tf.layers.conv2d(z, filters=64, kernel_size=[3, 3],\n",
    "                             padding='same', activation=tf.nn.relu)\n",
    "        z = tf.layers.max_pooling2d(z, pool_size=[2, 2], strides=2)\n",
    "\n",
    "    with tf.variable_scope('flatten'):\n",
    "        shape = z.get_shape().as_list()\n",
    "        z = tf.reshape(z, [-1, np.prod(shape[1:])])\n",
    "\n",
    "    with tf.variable_scope('mlp'):\n",
    "        z = tf.layers.dense(z, units=128, activation=tf.nn.relu)\n",
    "        z = tf.layers.dropout(z, rate=0.25, training=training)\n",
    "\n",
    "    logits_ = tf.layers.dense(z, units=10, name='logits')\n",
    "    y = tf.nn.softmax(logits_, name='ybar')\n",
    "\n",
    "    if logits:\n",
    "        return y, logits_\n",
    "    return y\n"
   ]
  },
  {
   "cell_type": "code",
   "execution_count": null,
   "metadata": {
    "id": "KT4FasI9avaY"
   },
   "outputs": [],
   "source": [
    "class Dummy:\n",
    "    pass\n",
    "\n",
    "\n",
    "env = Dummy()"
   ]
  },
  {
   "cell_type": "code",
   "execution_count": null,
   "metadata": {
    "colab": {
     "base_uri": "https://localhost:8080/"
    },
    "id": "RGJyHdN4axWb",
    "outputId": "957869c1-1dbb-40de-d8b9-cbd6d54efac7"
   },
   "outputs": [
    {
     "name": "stderr",
     "output_type": "stream",
     "text": [
      "/usr/local/lib/python3.7/dist-packages/ipykernel_launcher.py:4: UserWarning: `tf.layers.conv2d` is deprecated and will be removed in a future version. Please Use `tf.keras.layers.Conv2D` instead.\n",
      "  after removing the cwd from sys.path.\n",
      "/usr/local/lib/python3.7/dist-packages/ipykernel_launcher.py:5: UserWarning: `tf.layers.max_pooling2d` is deprecated and will be removed in a future version. Please use `tf.keras.layers.MaxPooling2D` instead.\n",
      "  \"\"\"\n",
      "/usr/local/lib/python3.7/dist-packages/ipykernel_launcher.py:9: UserWarning: `tf.layers.conv2d` is deprecated and will be removed in a future version. Please Use `tf.keras.layers.Conv2D` instead.\n",
      "  if __name__ == '__main__':\n",
      "/usr/local/lib/python3.7/dist-packages/ipykernel_launcher.py:10: UserWarning: `tf.layers.max_pooling2d` is deprecated and will be removed in a future version. Please use `tf.keras.layers.MaxPooling2D` instead.\n",
      "  # Remove the CWD from sys.path while we load stuff.\n",
      "/usr/local/lib/python3.7/dist-packages/ipykernel_launcher.py:17: UserWarning: `tf.layers.dense` is deprecated and will be removed in a future version. Please use `tf.keras.layers.Dense` instead.\n",
      "/usr/local/lib/python3.7/dist-packages/ipykernel_launcher.py:18: UserWarning: `tf.layers.dropout` is deprecated and will be removed in a future version. Please use `tf.keras.layers.Dropout` instead.\n",
      "/usr/local/lib/python3.7/dist-packages/ipykernel_launcher.py:20: UserWarning: `tf.layers.dense` is deprecated and will be removed in a future version. Please use `tf.keras.layers.Dense` instead.\n",
      "WARNING:tensorflow:From /usr/local/lib/python3.7/dist-packages/tensorflow/python/util/dispatch.py:1082: softmax_cross_entropy_with_logits (from tensorflow.python.ops.nn_ops) is deprecated and will be removed in a future version.\n",
      "Instructions for updating:\n",
      "\n",
      "Future major versions of TensorFlow will allow gradients to flow\n",
      "into the labels input on backprop by default.\n",
      "\n",
      "See `tf.nn.softmax_cross_entropy_with_logits_v2`.\n",
      "\n"
     ]
    }
   ],
   "source": [
    "with tf.variable_scope('model'):\n",
    "    env.x = tf.placeholder(tf.float32, (None, img_size, img_size, img_chan),\n",
    "                           name='x')\n",
    "    env.y = tf.placeholder(tf.float32, (None, n_classes), name='y')\n",
    "    env.training = tf.placeholder_with_default(False, (), name='mode')\n",
    "\n",
    "    env.ybar, logits = model(env.x, logits=True, training=env.training)\n",
    "\n",
    "    with tf.variable_scope('acc'):\n",
    "        count = tf.equal(tf.argmax(env.y, axis=1), tf.argmax(env.ybar, axis=1))\n",
    "        env.acc = tf.reduce_mean(tf.cast(count, tf.float32), name='acc')\n",
    "\n",
    "    with tf.variable_scope('loss'):\n",
    "        xent = tf.nn.softmax_cross_entropy_with_logits(labels=env.y,\n",
    "                                                       logits=logits)\n",
    "        env.loss = tf.reduce_mean(xent, name='loss')\n",
    "\n",
    "    with tf.variable_scope('train_op'):\n",
    "        optimizer = tf.train.AdamOptimizer()\n",
    "        env.train_op = optimizer.minimize(env.loss)\n",
    "\n",
    "    env.saver = tf.train.Saver()\n",
    "\n",
    "with tf.variable_scope('model', reuse=True):\n",
    "    env.fgsm_eps = tf.placeholder(tf.float32, (), name='fgsm_eps')\n",
    "    env.fgsm_epochs = tf.placeholder(tf.int32, (), name='fgsm_epochs')\n",
    "    env.x_fgsm = fgm(model, env.x, epochs=env.fgsm_epochs, eps=env.fgsm_eps)\n"
   ]
  },
  {
   "cell_type": "code",
   "execution_count": null,
   "metadata": {
    "colab": {
     "base_uri": "https://localhost:8080/"
    },
    "id": "Fy5mrAj8azr5",
    "outputId": "2e468294-d67f-4d2a-e0f9-9bf6cf56fa05"
   },
   "outputs": [
    {
     "name": "stdout",
     "output_type": "stream",
     "text": [
      "\n",
      "Initializing graph\n"
     ]
    }
   ],
   "source": [
    "print('\\nInitializing graph')\n",
    "\n",
    "sess = tf.InteractiveSession()\n",
    "sess.run(tf.global_variables_initializer())\n",
    "sess.run(tf.local_variables_initializer())"
   ]
  },
  {
   "cell_type": "code",
   "execution_count": null,
   "metadata": {
    "id": "zFF7oBLea_qL"
   },
   "outputs": [],
   "source": [
    "def evaluate(sess, env, X_data, y_data, batch_size=128):\n",
    "    \"\"\"\n",
    "    Evaluate TF model by running env.loss and env.acc.\n",
    "    \"\"\"\n",
    "    print('\\nEvaluating')\n",
    "\n",
    "    n_sample = X_data.shape[0]\n",
    "    n_batch = int((n_sample+batch_size-1) / batch_size)\n",
    "    loss, acc = 0, 0\n",
    "\n",
    "    for batch in range(n_batch):\n",
    "        print(' batch {0}/{1}'.format(batch + 1, n_batch), end='\\r')\n",
    "        start = batch * batch_size\n",
    "        end = min(n_sample, start + batch_size)\n",
    "        cnt = end - start\n",
    "        batch_loss, batch_acc = sess.run(\n",
    "            [env.loss, env.acc],\n",
    "            feed_dict={env.x: X_data[start:end],\n",
    "                       env.y: y_data[start:end]})\n",
    "        loss += batch_loss * cnt\n",
    "        acc += batch_acc * cnt\n",
    "    loss /= n_sample\n",
    "    acc /= n_sample\n",
    "\n",
    "    print(' loss: {0:.4f} acc: {1:.4f}'.format(loss, acc))\n",
    "    return loss, acc"
   ]
  },
  {
   "cell_type": "code",
   "execution_count": null,
   "metadata": {
    "id": "L455-s5mbDrp"
   },
   "outputs": [],
   "source": [
    "def train(sess, env, X_data, y_data, X_valid=None, y_valid=None, epochs=1,\n",
    "          load=False, shuffle=True, batch_size=128, name='model'):\n",
    "    \"\"\"\n",
    "    Train a TF model by running env.train_op.\n",
    "    \"\"\"\n",
    "    if load:\n",
    "        if not hasattr(env, 'saver'):\n",
    "            return print('\\nError: cannot find saver op')\n",
    "        print('\\nLoading saved model')\n",
    "        return env.saver.restore(sess, 'model/{}'.format(name))\n",
    "\n",
    "    print('\\nTrain model')\n",
    "    n_sample = X_data.shape[0]\n",
    "    n_batch = int((n_sample+batch_size-1) / batch_size)\n",
    "    for epoch in range(epochs):\n",
    "        print('\\nEpoch {0}/{1}'.format(epoch + 1, epochs))\n",
    "\n",
    "        if shuffle:\n",
    "            print('\\nShuffling data')\n",
    "            ind = np.arange(n_sample)\n",
    "            np.random.shuffle(ind)\n",
    "            X_data = X_data[ind]\n",
    "            y_data = y_data[ind]\n",
    "\n",
    "        for batch in range(n_batch):\n",
    "            print(' batch {0}/{1}'.format(batch + 1, n_batch), end='\\r')\n",
    "            start = batch * batch_size\n",
    "            end = min(n_sample, start + batch_size)\n",
    "            sess.run(env.train_op, feed_dict={env.x: X_data[start:end],\n",
    "                                              env.y: y_data[start:end],\n",
    "                                              env.training: True})\n",
    "        if X_valid is not None:\n",
    "            evaluate(sess, env, X_valid, y_valid)\n",
    "\n",
    "    if hasattr(env, 'saver'):\n",
    "        print('\\n Saving model')\n",
    "        os.makedirs('model', exist_ok=True)\n",
    "        env.saver.save(sess, 'model/{}'.format(name))\n"
   ]
  },
  {
   "cell_type": "code",
   "execution_count": null,
   "metadata": {
    "id": "cRsdFmzvbExB"
   },
   "outputs": [],
   "source": [
    "def predict(sess, env, X_data, batch_size=128):\n",
    "    \"\"\"\n",
    "    Do inference by running env.ybar.\n",
    "    \"\"\"\n",
    "    print('\\nPredicting')\n",
    "    n_classes = env.ybar.get_shape().as_list()[1]\n",
    "\n",
    "    n_sample = X_data.shape[0]\n",
    "    n_batch = int((n_sample+batch_size-1) / batch_size)\n",
    "    yval = np.empty((n_sample, n_classes))\n",
    "\n",
    "    for batch in range(n_batch):\n",
    "        print(' batch {0}/{1}'.format(batch + 1, n_batch), end='\\r')\n",
    "        start = batch * batch_size\n",
    "        end = min(n_sample, start + batch_size)\n",
    "        y_batch = sess.run(env.ybar, feed_dict={env.x: X_data[start:end]})\n",
    "        yval[start:end] = y_batch\n",
    "    print()\n",
    "    return yval"
   ]
  },
  {
   "cell_type": "code",
   "execution_count": null,
   "metadata": {
    "id": "S37rlnR1bOGq"
   },
   "outputs": [],
   "source": [
    "def make_fgsm(sess, env, X_data, epochs=1, eps=0.01, batch_size=128):\n",
    "    \"\"\"\n",
    "    Generate FGSM by running env.x_fgsm.\n",
    "    \"\"\"\n",
    "    print('\\nMaking adversarials via FGSM')\n",
    "\n",
    "    n_sample = X_data.shape[0]\n",
    "    n_batch = int((n_sample + batch_size - 1) / batch_size)\n",
    "    X_adv = np.empty_like(X_data)\n",
    "\n",
    "    for batch in range(n_batch):\n",
    "        print(' batch {0}/{1}'.format(batch + 1, n_batch), end='\\r')\n",
    "        start = batch * batch_size\n",
    "        end = min(n_sample, start + batch_size)\n",
    "        adv = sess.run(env.x_fgsm, feed_dict={\n",
    "            env.x: X_data[start:end],\n",
    "            env.fgsm_eps: eps,\n",
    "            env.fgsm_epochs: epochs})\n",
    "        X_adv[start:end] = adv\n",
    "    print()\n",
    "\n",
    "    return X_adv"
   ]
  },
  {
   "cell_type": "code",
   "execution_count": null,
   "metadata": {
    "colab": {
     "base_uri": "https://localhost:8080/"
    },
    "id": "CJSnSM4NbPNW",
    "outputId": "f206365c-7731-49c1-e4d4-5bc8eef4b628"
   },
   "outputs": [
    {
     "name": "stdout",
     "output_type": "stream",
     "text": [
      "\n",
      "Training\n",
      "\n",
      "Train model\n",
      "\n",
      "Epoch 1/5\n",
      "\n",
      "Shuffling data\n",
      "\n",
      "Evaluating\n",
      " loss: 0.0664 acc: 0.9810\n",
      "\n",
      "Epoch 2/5\n",
      "\n",
      "Shuffling data\n",
      " batch 422/422\n",
      "Evaluating\n",
      " loss: 0.0490 acc: 0.9837\n",
      "\n",
      "Epoch 3/5\n",
      "\n",
      "Shuffling data\n",
      " batch 422/422\n",
      "Evaluating\n",
      " loss: 0.0438 acc: 0.9878\n",
      "\n",
      "Epoch 4/5\n",
      "\n",
      "Shuffling data\n",
      " batch 422/422\n",
      "Evaluating\n",
      " loss: 0.0412 acc: 0.9885\n",
      "\n",
      "Epoch 5/5\n",
      "\n",
      "Shuffling data\n",
      " batch 422/422\n",
      "Evaluating\n",
      " loss: 0.0348 acc: 0.9897\n",
      "\n",
      " Saving model\n",
      "\n",
      "Time taken to train data :  20.700541973114014 seconds\n"
     ]
    }
   ],
   "source": [
    "print('\\nTraining')\n",
    "start = time.time()\n",
    "train(sess, env, X_train, y_train, X_valid, y_valid, load=False, epochs=5,\n",
    "      name='mnist')\n",
    "print(\"\\nTime taken to train data : \", time.time() - start, \"seconds\")"
   ]
  },
  {
   "cell_type": "code",
   "execution_count": null,
   "metadata": {
    "colab": {
     "base_uri": "https://localhost:8080/"
    },
    "id": "QDrR3HoibeE9",
    "outputId": "b6d41d1b-d089-4fd3-d65c-a29f3a247ebc"
   },
   "outputs": [
    {
     "name": "stdout",
     "output_type": "stream",
     "text": [
      "\n",
      "Evaluating on clean data\n",
      "\n",
      "Evaluating\n",
      " loss: 0.0261 acc: 0.9916\n",
      "\n",
      "Time taken to evaluate on clean data :  0.28835296630859375 seconds\n"
     ]
    }
   ],
   "source": [
    "print('\\nEvaluating on clean data')\n",
    "start = time.time()\n",
    "evaluate(sess, env, X_test, y_test)\n",
    "print(\"\\nTime taken to evaluate on clean data : \", time.time() - start, \"seconds\")"
   ]
  },
  {
   "cell_type": "code",
   "execution_count": null,
   "metadata": {
    "colab": {
     "base_uri": "https://localhost:8080/"
    },
    "id": "oiODPvM4buLT",
    "outputId": "a80e61f9-8697-4382-95b6-5a0c5ed73245"
   },
   "outputs": [
    {
     "name": "stdout",
     "output_type": "stream",
     "text": [
      "\n",
      "Generating adversarial data\n",
      "\n",
      "Making adversarials via FGSM\n",
      "\n",
      "\n",
      "Time taken to generate adversarial data 4.634019613265991 seconds\n"
     ]
    }
   ],
   "source": [
    "print('\\nGenerating adversarial data')\n",
    "start = time.time()\n",
    "X_adv = make_fgsm(sess, env, X_test, eps=0.01, epochs=12)\n",
    "print(\"\\nTime taken to generate adversarial data\", time.time() - start, \"seconds\")"
   ]
  },
  {
   "cell_type": "code",
   "execution_count": null,
   "metadata": {
    "colab": {
     "base_uri": "https://localhost:8080/"
    },
    "id": "YMvBUj0acNj0",
    "outputId": "0de1a66a-7c12-49c8-e93d-971c9e128d3e"
   },
   "outputs": [
    {
     "name": "stdout",
     "output_type": "stream",
     "text": [
      "\n",
      "Evaluating on adversarial data\n",
      "\n",
      "Evaluating\n",
      " loss: 1.1777 acc: 0.6393\n",
      "\n",
      "Time taken to evaluate on adversarial data 0.2729301452636719 seconds\n"
     ]
    }
   ],
   "source": [
    "print('\\nEvaluating on adversarial data')\n",
    "start = time.time()\n",
    "evaluate(sess, env, X_adv, y_test)\n",
    "print(\"\\nTime taken to evaluate on adversarial data\", time.time() - start, \"seconds\")"
   ]
  },
  {
   "cell_type": "code",
   "execution_count": null,
   "metadata": {
    "colab": {
     "base_uri": "https://localhost:8080/"
    },
    "id": "0dejZUiDcWHS",
    "outputId": "aef7a05c-d827-473b-df92-d93210874433"
   },
   "outputs": [
    {
     "name": "stdout",
     "output_type": "stream",
     "text": [
      "\n",
      "Randomly sample adversarial data from each category\n",
      "\n",
      "Predicting\n",
      " batch 79/79\n",
      "\n",
      "Predicting\n",
      " batch 79/79\n"
     ]
    }
   ],
   "source": [
    "print('\\nRandomly sample adversarial data from each category')\n",
    "\n",
    "y1 = predict(sess, env, X_test)\n",
    "y2 = predict(sess, env, X_adv)\n",
    "\n",
    "z0 = np.argmax(y_test, axis=1)\n",
    "z1 = np.argmax(y1, axis=1)\n",
    "z2 = np.argmax(y2, axis=1)\n"
   ]
  },
  {
   "cell_type": "code",
   "execution_count": null,
   "metadata": {
    "id": "-SOlFNcNc74C"
   },
   "outputs": [],
   "source": [
    "# X_tmp = np.empty((10, 28, 28))\n",
    "# y_tmp = np.empty((10, 10))\n",
    "# for i in range(10):\n",
    "#     print('Target {0}'.format(i))\n",
    "#     ind, = np.where(np.all([z0 == i, z1 == i, z2 != i], axis=0))\n",
    "#     cur = np.random.choice(ind)\n",
    "#     X_org = np.squeeze(X_test[cur])\n",
    "#     X_tmp[i] = np.squeeze(X_adv[cur])\n",
    "#     y_tmp[i] = y2[cur]\n",
    "\n",
    "ind = np.logical_and(z0 == z1, z1 != z2)\n",
    "# print('success: ', np.sum(ind))\n",
    "\n",
    "ind = z0 == z1\n",
    "\n",
    "X_test = X_test[ind]\n",
    "X_adv = X_adv[ind]\n",
    "z1 = z1[ind]\n",
    "z2 = z2[ind]\n",
    "y2 = y2[ind]\n",
    "\n",
    "ind, = np.where(z1 != z2)\n",
    "cur = np.random.choice(ind, size=n_classes)\n",
    "X_org = np.squeeze(X_test[cur])\n",
    "X_tmp = np.squeeze(X_adv[cur])\n",
    "y_tmp = y2[cur]"
   ]
  },
  {
   "cell_type": "code",
   "execution_count": null,
   "metadata": {},
   "outputs": [],
   "source": [
    "## @author shangeet\n",
    "## @date 08-11-22"
   ]
  },
  {
   "cell_type": "code",
   "execution_count": null,
   "metadata": {
    "colab": {
     "base_uri": "https://localhost:8080/"
    },
    "id": "E_knm7sNBHfB",
    "outputId": "1d943a79-9fc7-4dd0-aa89-5d380d7b5fd7"
   },
   "outputs": [
    {
     "name": "stdout",
     "output_type": "stream",
     "text": [
      "[7 2 1 ... 4 5 6] 9916\n",
      "[7 2 1 ... 4 8 6] 9916\n",
      "[7 2 1 ... 4 5 6] 10000\n"
     ]
    }
   ],
   "source": [
    "print(z1,len(z1))\n",
    "print(z2,len(z2))\n",
    "print(z0,len(z0))"
   ]
  },
  {
   "cell_type": "code",
   "execution_count": null,
   "metadata": {
    "colab": {
     "base_uri": "https://localhost:8080/",
     "height": 248
    },
    "id": "IpbW5TBGc-FD",
    "outputId": "1bba157e-cd10-4719-c0e9-4eda69e2e74f"
   },
   "outputs": [
    {
     "name": "stdout",
     "output_type": "stream",
     "text": [
      "\n",
      "Plotting results\n",
      "\n",
      "Saving figure\n"
     ]
    },
    {
     "data": {
      "image/png": "[encoded data removed]",
      "text/plain": [
       "<IPython.core.display.Image object>"
      ]
     },
     "execution_count": 21,
     "metadata": {},
     "output_type": "execute_result"
    }
   ],
   "source": [
    "print('\\nPlotting results')\n",
    "\n",
    "fig = plt.figure(figsize=(10, 2.2))\n",
    "gs = gridspec.GridSpec(2, 10, wspace=0.05, hspace=0.05)\n",
    "\n",
    "label = np.argmax(y_tmp, axis=1)\n",
    "proba = np.max(y_tmp, axis=1)\n",
    "for i in range(10):\n",
    "  ax = fig.add_subplot(gs[0, i])\n",
    "  ax.imshow(X_org[i], cmap='gray', interpolation='none')\n",
    "  ax.set_xticks([])\n",
    "  ax.set_yticks([])\n",
    "\n",
    "  ax = fig.add_subplot(gs[1, i])\n",
    "  ax.imshow(X_tmp[i], cmap='gray', interpolation='none')\n",
    "  ax.set_xticks([])\n",
    "  ax.set_yticks([])\n",
    "\n",
    "  ax.set_xlabel('{0} ({1:.2f})'.format(label[i], proba[i]), fontsize=12)\n",
    "\n",
    "print('\\nSaving figure')\n",
    "\n",
    "gs.tight_layout(fig)\n",
    "os.makedirs('img', exist_ok=True)\n",
    "plt.savefig('img/fgsm_mnist.png')\n",
    "\n",
    "from IPython.display import Image\n",
    "Image('img/fgsm_mnist.png')"
   ]
  },
  {
   "cell_type": "code",
   "execution_count": null,
   "metadata": {
    "colab": {
     "base_uri": "https://localhost:8080/"
    },
    "id": "3Y3QwNjHLrYz",
    "outputId": "603b2eaa-5417-4515-bf86-42c6870379c4"
   },
   "outputs": [
    {
     "name": "stdout",
     "output_type": "stream",
     "text": [
      "Org image 10\n",
      "Adv image 10\n",
      "Adv image 9916\n"
     ]
    }
   ],
   "source": [
    "print('Org image', len(X_org))\n",
    "print('Adv image', len(X_tmp))\n",
    "print('Adv image', len(X_adv))"
   ]
  },
  {
   "cell_type": "code",
   "execution_count": null,
   "metadata": {
    "colab": {
     "base_uri": "https://localhost:8080/"
    },
    "id": "N9olcGkQx7B3",
    "outputId": "698174fb-803d-4f6e-a75f-956b8bb92176"
   },
   "outputs": [
    {
     "name": "stdout",
     "output_type": "stream",
     "text": [
      "[[2.21373612e-05 2.67166251e-06 1.12993325e-06 ... 9.47396755e-01\n",
      "  3.18715684e-05 5.06875999e-02]\n",
      " [8.79373110e-04 5.50317054e-05 8.42132509e-01 ... 1.58819136e-09\n",
      "  2.51372694e-03 2.63095199e-08]\n",
      " [5.27319526e-06 8.50188375e-01 9.17084890e-06 ... 7.00836361e-04\n",
      "  4.41858319e-05 1.86634988e-05]\n",
      " ...\n",
      " [1.92339954e-07 3.80191000e-06 2.75341279e-08 ... 2.60419183e-05\n",
      "  7.59876057e-05 3.99566554e-02]\n",
      " [1.53147557e-05 8.60691785e-07 1.15726436e-06 ... 2.12493788e-07\n",
      "  9.20792639e-01 3.28423567e-07]\n",
      " [6.69329893e-06 1.88725119e-06 2.00420654e-05 ... 1.35950387e-07\n",
      "  4.74286178e-04 9.67435312e-07]]\n",
      "[[1.23248319e-03 1.97575688e-01 2.14303122e-03 1.48775478e-04\n",
      "  1.10797511e-04 2.70954915e-03 7.60544419e-01 3.99463744e-07\n",
      "  3.55345793e-02 2.68393478e-07]\n",
      " [2.89214985e-03 1.29568332e-03 7.53076019e-05 6.30436419e-03\n",
      "  8.02444934e-04 1.80514067e-01 3.28208291e-04 1.39266667e-05\n",
      "  3.91156115e-02 7.68658221e-01]\n",
      " [1.35132474e-08 1.83060513e-06 1.65503124e-07 1.03278836e-07\n",
      "  4.57175910e-01 7.16013005e-07 2.84065682e-09 1.36226242e-06\n",
      "  3.74684350e-05 5.42782485e-01]\n",
      " [7.42150605e-01 8.27045296e-04 4.75663785e-03 1.20674272e-03\n",
      "  4.27242974e-03 8.33288766e-04 2.22364873e-01 7.33519264e-04\n",
      "  2.26022247e-02 2.52655998e-04]\n",
      " [1.31967945e-05 1.84662167e-05 5.00263195e-06 1.25290066e-01\n",
      "  3.33836851e-06 1.34139424e-04 4.12326671e-08 6.96829943e-07\n",
      "  3.10090545e-04 8.74224961e-01]\n",
      " [6.23490132e-06 3.80279598e-05 4.20731267e-05 1.91708568e-06\n",
      "  6.64204359e-01 4.02907489e-07 5.46748291e-09 5.80175780e-03\n",
      "  1.34600177e-02 3.16445202e-01]\n",
      " [2.83433914e-01 5.88115017e-06 1.93920359e-03 7.19120653e-05\n",
      "  4.10157190e-06 2.67243431e-05 1.46795908e-04 1.69176383e-05\n",
      "  7.04884231e-01 9.47031192e-03]\n",
      " [2.28901456e-07 6.66411698e-01 3.32404763e-01 2.84601465e-05\n",
      "  7.92852290e-08 2.15242806e-04 3.77229007e-04 7.54439679e-06\n",
      "  5.54693863e-04 1.19290702e-08]\n",
      " [7.48443053e-05 2.66558459e-06 2.89878041e-01 2.61138659e-03\n",
      "  2.56631483e-06 1.75215137e-05 8.27629265e-06 8.29631790e-06\n",
      "  7.07395017e-01 1.33695960e-06]\n",
      " [1.26636473e-06 6.31527364e-05 4.88142905e-05 6.84025190e-06\n",
      "  1.16242518e-08 2.36642106e-09 1.10464875e-11 9.99866366e-01\n",
      "  8.04588672e-06 5.53576092e-06]]\n"
     ]
    }
   ],
   "source": [
    "print(y2)\n",
    "print(y_tmp)\n"
   ]
  },
  {
   "cell_type": "code",
   "execution_count": null,
   "metadata": {
    "colab": {
     "base_uri": "https://localhost:8080/"
    },
    "id": "vFLZNsLEMu9l",
    "outputId": "c38523b0-6149-48d2-8c76-88653fa63d99"
   },
   "outputs": [
    {
     "name": "stdout",
     "output_type": "stream",
     "text": [
      "[6 9 9 0 9 4 8 1 8 7]\n",
      "[0.76054442 0.76865822 0.54278249 0.7421506  0.87422496 0.66420436\n",
      " 0.70488423 0.6664117  0.70739502 0.99986637]\n"
     ]
    }
   ],
   "source": [
    "print(label)\n",
    "print(proba)"
   ]
  },
  {
   "cell_type": "code",
   "execution_count": null,
   "metadata": {
    "colab": {
     "base_uri": "https://localhost:8080/"
    },
    "id": "CBnmmAKQy3N8",
    "outputId": "4351a31f-4bb1-4601-ef9e-8d157c8d9757"
   },
   "outputs": [
    {
     "name": "stdout",
     "output_type": "stream",
     "text": [
      "[[0. 0. 0. ... 1. 0. 0.]\n",
      " [0. 0. 1. ... 0. 0. 0.]\n",
      " [0. 1. 0. ... 0. 0. 0.]\n",
      " ...\n",
      " [0. 0. 0. ... 0. 0. 0.]\n",
      " [0. 0. 0. ... 0. 0. 0.]\n",
      " [0. 0. 0. ... 0. 0. 0.]]\n",
      "[7 2 1 ... 4 5 6]\n",
      "10000\n"
     ]
    }
   ],
   "source": [
    "print(y_test)\n",
    "label_org = np.argmax(y_test, axis=1)\n",
    "print(label_org)\n",
    "print(len(label_org))"
   ]
  },
  {
   "cell_type": "code",
   "execution_count": null,
   "metadata": {
    "id": "YneMmaq-OHm5"
   },
   "outputs": [],
   "source": [
    "import pickle\n",
    "\n",
    "db = {}\n",
    "db['x_adv'] = X_adv\n",
    "db['label'] = z1\n",
    "db['x_org'] = X_org\n",
    "db['prob'] = proba\n",
    "\n",
    "# Its important to use binary mode\n",
    "dbfile = open('fgsm.pkl', 'ab')\n",
    "      \n",
    "# source, destination\n",
    "pickle.dump(db, dbfile)                     \n",
    "dbfile.close()"
   ]
  }
 ],
 "metadata": {
  "accelerator": "GPU",
  "colab": {
   "include_colab_link": true,
   "provenance": []
  },
  "gpuClass": "standard",
  "kernelspec": {
   "display_name": "Python 3 (ipykernel)",
   "language": "python",
   "name": "python3"
  },
  "language_info": {
   "codemirror_mode": {
    "name": "ipython",
    "version": 3
   },
   "file_extension": ".py",
   "mimetype": "text/x-python",
   "name": "python",
   "nbconvert_exporter": "python",
   "pygments_lexer": "ipython3",
   "version": "3.9.7"
  }
 },
 "nbformat": 4,
 "nbformat_minor": 1
}
